{
 "cells": [
  {
   "cell_type": "markdown",
   "metadata": {},
   "source": [
    "# Objetivo: Enviar mensagem para várias pessoas ou grupos automaticamente"
   ]
  },
  {
   "cell_type": "code",
   "execution_count": 1,
   "metadata": {},
   "outputs": [
    {
     "data": {
      "text/html": [
       "<div>\n",
       "<style scoped>\n",
       "    .dataframe tbody tr th:only-of-type {\n",
       "        vertical-align: middle;\n",
       "    }\n",
       "\n",
       "    .dataframe tbody tr th {\n",
       "        vertical-align: top;\n",
       "    }\n",
       "\n",
       "    .dataframe thead th {\n",
       "        text-align: right;\n",
       "    }\n",
       "</style>\n",
       "<table border=\"1\" class=\"dataframe\">\n",
       "  <thead>\n",
       "    <tr style=\"text-align: right;\">\n",
       "      <th></th>\n",
       "      <th>Pessoa</th>\n",
       "      <th>Número</th>\n",
       "      <th>Mensagem</th>\n",
       "    </tr>\n",
       "  </thead>\n",
       "  <tbody>\n",
       "    <tr>\n",
       "      <th>0</th>\n",
       "      <td>Diego</td>\n",
       "      <td>PREENCHA SEU NUMERO AQUI</td>\n",
       "      <td>Coe, ta doidao?</td>\n",
       "    </tr>\n",
       "    <tr>\n",
       "      <th>1</th>\n",
       "      <td>Alon</td>\n",
       "      <td>PREENCHA SEU NUMERO AQUI</td>\n",
       "      <td>E aí, tudo bem?</td>\n",
       "    </tr>\n",
       "    <tr>\n",
       "      <th>2</th>\n",
       "      <td>Julia</td>\n",
       "      <td>PREENCHA SEU NUMERO AQUI</td>\n",
       "      <td>Oi sumida</td>\n",
       "    </tr>\n",
       "  </tbody>\n",
       "</table>\n",
       "</div>"
      ],
      "text/plain": [
       "  Pessoa                    Número         Mensagem\n",
       "0  Diego  PREENCHA SEU NUMERO AQUI  Coe, ta doidao?\n",
       "1   Alon  PREENCHA SEU NUMERO AQUI  E aí, tudo bem?\n",
       "2  Julia  PREENCHA SEU NUMERO AQUI        Oi sumida"
      ]
     },
     "metadata": {},
     "output_type": "display_data"
    }
   ],
   "source": [
    "import pandas as pd\n",
    "\n",
    "contatos_df = pd.read_excel(\"Enviar.xlsx\")\n",
    "display(contatos_df)"
   ]
  },
  {
   "cell_type": "code",
   "execution_count": null,
   "metadata": {},
   "outputs": [
    {
     "name": "stderr",
     "output_type": "stream",
     "text": [
      "C:\\Users\\VISITA~1\\AppData\\Local\\Temp/ipykernel_11028/260265980.py:9: DeprecationWarning: find_elements_by_id is deprecated. Please use find_elements(by=By.ID, value=id_) instead\n",
      "  while len(navegador.find_elements_by_id(\"side\")) < 1:\n"
     ]
    }
   ],
   "source": [
    "from selenium import webdriver\n",
    "from selenium.webdriver.common.keys import Keys\n",
    "import time\n",
    "import urllib\n",
    "\n",
    "navegador = webdriver.Chrome()\n",
    "navegador.get(\"https://web.whatsapp.com/\")\n",
    "\n",
    "while len(navegador.find_elements_by_id(\"side\")) < 1:\n",
    "    time.sleep(1)\n",
    "\n",
    "# já estamos com o login feito no whatsapp web\n",
    "for i, mensagem in enumerate(contatos_df['Mensagem']):\n",
    "    pessoa = contatos_df.loc[i, \"Pessoa\"]\n",
    "    numero = contatos_df.loc[i, \"Número\"]\n",
    "    texto = urllib.parse.quote(f\"Oi {pessoa}! {mensagem}\")\n",
    "    link = f\"https://web.whatsapp.com/send?phone={numero}&text={texto}\"\n",
    "    navegador.get(link)\n",
    "    while len(navegador.find_elements_by_id(\"side\")) < 1:\n",
    "        time.sleep(1)\n",
    "    navegador.find_element_by_xpath('//*[@id=\"main\"]/footer/div[1]/div[2]/div/div[2]').send_keys(Keys.ENTER)\n",
    "    time.sleep(10)\n",
    "        \n",
    "    "
   ]
  },
  {
   "cell_type": "code",
   "execution_count": null,
   "metadata": {},
   "outputs": [],
   "source": []
  }
 ],
 "metadata": {
  "kernelspec": {
   "display_name": "Python 3 (ipykernel)",
   "language": "python",
   "name": "python3"
  },
  "language_info": {
   "codemirror_mode": {
    "name": "ipython",
    "version": 3
   },
   "file_extension": ".py",
   "mimetype": "text/x-python",
   "name": "python",
   "nbconvert_exporter": "python",
   "pygments_lexer": "ipython3",
   "version": "3.9.7"
  }
 },
 "nbformat": 4,
 "nbformat_minor": 4
}
